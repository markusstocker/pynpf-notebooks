{
 "cells": [
  {
   "cell_type": "markdown",
   "metadata": {
    "deletable": false
   },
   "source": [
    "# Introduction"
   ]
  },
  {
   "cell_type": "markdown",
   "metadata": {
    "deletable": false
   },
   "source": [
    "This notebook supports the identification and characterization of new particle formation events, including plotting DMPS data for a specified day and place, interpreting the visualization to determine whether an event occurred and extract attributes about the event, such as the duration and classification. Finally, it records information about events in a database. The `analysis` notebook support the processing of information about events."
   ]
  },
  {
   "cell_type": "markdown",
   "metadata": {
    "deletable": false
   },
   "source": [
    "## Initialization"
   ]
  },
  {
   "cell_type": "code",
   "execution_count": null,
   "metadata": {
    "deletable": false
   },
   "outputs": [],
   "source": [
    "from pynpf.smear.datafetcher import fetchdata\n",
    "from pynpf.smear.dataplotter import plotdata\n",
    "from pynpf.factory import record, event\n",
    "\n",
    "# Select the day and place\n",
    "# Day format: yyyy-mm-dd\n",
    "# Valid places: Hyytiälä, Värriö, Puijo\n",
    "# Examples: \n",
    "#  day = '2013-04-04', place = 'Hyytiälä'\n",
    "#  day = '2013-04-08', place = 'Hyytiälä'\n",
    "day = '2013-04-04'\n",
    "place = 'Hyytiälä'"
   ]
  },
  {
   "cell_type": "markdown",
   "metadata": {
    "deletable": false
   },
   "source": [
    "## Execution"
   ]
  },
  {
   "cell_type": "code",
   "execution_count": null,
   "metadata": {
    "deletable": false
   },
   "outputs": [],
   "source": [
    "# Fetch and plot concentration data for the given day and place\n",
    "# Data fetched from SmartSMEAR, https://avaa.tdata.fi/web/smart\n",
    "plotdata(fetchdata(day, place))"
   ]
  },
  {
   "cell_type": "code",
   "execution_count": null,
   "metadata": {
    "deletable": false
   },
   "outputs": [],
   "source": [
    "# Configure information about the new particle formation event\n",
    "# Time format: hh:mm, e.g. 11:00\n",
    "# Valid classifications: Class Ia, Class Ib, Class II\n",
    "# Examples:\n",
    "#  For 2013-04-04, Hyytiälä: beginning='11:00', end='19:00', classification='Class Ia'\n",
    "#  For 2015-03-10, Värriö: beginning='09:00', end='15:00', classification='Class Ib'\n",
    "beginning = '11:00'\n",
    "end = '19:00'\n",
    "classification = 'Class Ia'"
   ]
  },
  {
   "cell_type": "code",
   "execution_count": null,
   "metadata": {
    "deletable": false
   },
   "outputs": [],
   "source": [
    "# Record information about the new particle formation event\n",
    "record(event(day, place, beginning, end, classification))"
   ]
  }
 ],
 "metadata": {
  "kernelspec": {
   "display_name": "Python 3",
   "language": "python",
   "name": "python3"
  },
  "language_info": {
   "codemirror_mode": {
    "name": "ipython",
    "version": 3
   },
   "file_extension": ".py",
   "mimetype": "text/x-python",
   "name": "python",
   "nbconvert_exporter": "python",
   "pygments_lexer": "ipython3",
   "version": "3.6.4"
  }
 },
 "nbformat": 4,
 "nbformat_minor": 2
}
