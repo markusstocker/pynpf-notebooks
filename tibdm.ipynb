{
 "cells": [
  {
   "cell_type": "markdown",
   "metadata": {
    "deletable": false
   },
   "source": [
    "# Introduction"
   ]
  },
  {
   "cell_type": "markdown",
   "metadata": {
    "deletable": false
   },
   "source": [
    "This notebook supports the analysis of information about new particle formation events managed by the database. Events can be mapped, evaluated statistically, or described."
   ]
  },
  {
   "cell_type": "markdown",
   "metadata": {
    "deletable": false
   },
   "source": [
    "## Configuration"
   ]
  },
  {
   "cell_type": "code",
   "execution_count": null,
   "metadata": {
    "deletable": false
   },
   "outputs": [],
   "source": [
    "# Select the day and place\n",
    "# Day format: yyyy-mm-dd\n",
    "# Valid places: Hyytiälä, Värriö\n",
    "# Examples: \n",
    "#  day = '2013-04-04', place = 'Hyytiälä'\n",
    "#  day = '2013-04-08', place = 'Hyytiälä'\n",
    "day = '2013-04-04'\n",
    "place = 'Hyytiälä'"
   ]
  },
  {
   "cell_type": "markdown",
   "metadata": {
    "deletable": false
   },
   "source": [
    "## Interpretation"
   ]
  },
  {
   "cell_type": "code",
   "execution_count": null,
   "metadata": {
    "deletable": false
   },
   "outputs": [],
   "source": [
    "# Fetch and plot concentration data for the given day and place\n",
    "# Data fetched from SmartSMEAR, https://avaa.tdata.fi/web/smart\n",
    "plotdata(fetchdata(day, place))"
   ]
  },
  {
   "cell_type": "markdown",
   "metadata": {
    "deletable": false
   },
   "source": [
    "## Initialization"
   ]
  },
  {
   "cell_type": "code",
   "execution_count": 2,
   "metadata": {
    "deletable": false,
    "init_cell": true
   },
   "outputs": [],
   "source": [
    "import warnings\n",
    "warnings.filterwarnings('ignore')\n",
    "import requests, io, pandas as pd, numpy as np\n",
    "from matplotlib import pyplot as plt\n",
    "from urllib.parse import urlencode\n",
    "from datetime import datetime, timedelta\n",
    "from pytz import timezone\n",
    "\n",
    "configuration = {\n",
    "    'Hyytiälä': {\n",
    "        'smear_table': 'HYY_DMPS',\n",
    "        'smear_variables': 'd316e1,d355e1,d398e1,d447e1,d501e1,d562e1,d631e1,d708e1,d794e1,'\\\n",
    "                           'd891e1,d100e2,d112e2,d126e2,d141e2,d158e2,d178e2,d200e2,d224e2,'\\\n",
    "                           'd251e2,d282e2,d316e2,d355e2,d398e2,d447e2,d501e2,d562e2,d631e2,'\\\n",
    "                           'd708e2,d794e2,d891e2,d100e3,d112e3,d126e3,d141e3,d158e3,d178e3,d200e3',\n",
    "        'num_var_less_than_10nm': 10\n",
    "    },\n",
    "    'Puijo': {\n",
    "        'smear_table': 'PUI_dmps_tot',\n",
    "        'smear_variables': 'ch01,ch02,ch03,ch04,ch05,ch06,ch07,ch08,ch09,ch10,ch11,ch12,ch13,ch14,ch15,ch16,'\\\n",
    "                           'ch17,ch18,ch19,ch20,ch21,ch22,ch23,ch24,ch25,ch26,ch27,ch28,ch29,ch30,ch31,ch32,'\\\n",
    "                           'ch33,ch34,ch35,ch36,ch37,ch38,ch39,ch40',\n",
    "        'num_var_less_than_10nm': 10\n",
    "    },\n",
    "    'Värriö': {\n",
    "        'smear_table': 'VAR_DMPS',\n",
    "        'smear_variables': 'd316e1,d355e1,d398e1,d447e1,d501e1,d562e1,d631e1,d708e1,d794e1,'\\\n",
    "                           'd891e1,d100e2,d112e2,d126e2,d141e2,d158e2,d178e2,d200e2,d224e2,'\\\n",
    "                           'd251e2,d282e2,d316e2,d355e2,d398e2,d447e2,d501e2,d562e2,d631e2,'\\\n",
    "                           'd708e2,d794e2,d891e2,d100e3,d112e3,d126e3,d141e3,d158e3,d178e3,d200e3',\n",
    "        'num_var_less_than_10nm': 10\n",
    "    }\n",
    "}\n",
    "\n",
    "\n",
    "def fetchdata(date, place):\n",
    "    time_from = timezone('Europe/Helsinki').localize(datetime.strptime(date, '%Y-%m-%d'))\n",
    "    time_to = time_from + timedelta(days=1)\n",
    "\n",
    "    try:\n",
    "        smear_table = configuration[place]['smear_table']\n",
    "        smear_variables = configuration[place]['smear_variables']\n",
    "    except LookupError:\n",
    "        print('Place not found in configuration [place = {}, places = {}]'.format(place, configuration.keys()))\n",
    "        return list()\n",
    "\n",
    "    query = {'table': smear_table, 'quality': 'ANY', 'averaging': 'NONE', 'type': 'NONE',\n",
    "             'from': str(time_from), 'to': str(time_to), 'variables': smear_variables}\n",
    "    url = 'http://avaa.tdata.fi/smear-services/smeardata.jsp?' + urlencode(query)\n",
    "    response = requests.post(url)\n",
    "\n",
    "    return pd.read_csv(io.StringIO(response.text))\n",
    "\n",
    "\n",
    "def plotdata(data):\n",
    "    d = data.copy(deep=True)\n",
    "    d = d.ix[:, 6:].as_matrix()\n",
    "    m = len(d)\n",
    "    n = len(d[0])\n",
    "    x = range(0, m)\n",
    "    y = range(0, n)\n",
    "    x, y = np.meshgrid(x, y)\n",
    "    z = np.transpose(np.array([row[1:] for row in d]).astype(np.float))\n",
    "    plt.figure(figsize=(10, 5), dpi=100)\n",
    "    plt.pcolormesh(x, y, z)\n",
    "    plt.plot((0, x.max()), (y.max()/2, y.max()/2), \"r-\")\n",
    "    plt.colorbar()\n",
    "    plt.xlim(xmax=m-1)\n",
    "    x_ticks = np.arange(x.min(), x.max(), 6)\n",
    "    x_labels = range(x_ticks.size)\n",
    "    plt.xticks(x_ticks, x_labels)\n",
    "    plt.xlabel('Hours')\n",
    "    y_ticks = np.arange(y.min(), y.max(), 6)\n",
    "    y_labels = ['3.16', '6.31', '12.6', '25.1', '50.1', '100']\n",
    "    plt.yticks(y_ticks, y_labels)\n",
    "    plt.ylabel('Diameter [nm]')\n",
    "    plt.ylim(ymax=n-1)\n",
    "    plt.show()"
   ]
  }
 ],
 "metadata": {
  "kernelspec": {
   "display_name": "Python 3",
   "language": "python",
   "name": "python3"
  },
  "language_info": {
   "codemirror_mode": {
    "name": "ipython",
    "version": 3
   },
   "file_extension": ".py",
   "mimetype": "text/x-python",
   "name": "python",
   "nbconvert_exporter": "python",
   "pygments_lexer": "ipython3",
   "version": "3.6.4"
  },
  "widgets": {
   "application/vnd.jupyter.widget-state+json": {
    "state": {
     "5c2dfb80a60941cd978426db0f7d0a8a": {
      "model_module": "jupyter-leaflet",
      "model_module_version": "~0.5.1",
      "model_name": "LeafletTileLayerModel",
      "state": {
       "_model_module_version": "~0.5.1",
       "_view_count": null,
       "_view_module_version": "~0.5.1",
       "max_zoom": 19,
       "min_zoom": 1,
       "options": [
        "attribution",
        "detect_retina",
        "max_zoom",
        "min_zoom",
        "opacity",
        "tile_size"
       ]
      }
     },
     "6b1380e7ac4a4aaeae652bdd7bd89c4a": {
      "model_module": "@jupyter-widgets/base",
      "model_module_version": "1.0.0",
      "model_name": "LayoutModel",
      "state": {
       "align_self": "stretch",
       "height": "400px"
      }
     },
     "dc03957ebf6347a69f7b45fdf47ac43f": {
      "model_module": "jupyter-leaflet",
      "model_module_version": "1.0.0",
      "model_name": "LeafletMapModel",
      "state": {
       "_dom_classes": [],
       "_east": 67.06054687500001,
       "_model_module_version": "1.0.0",
       "_north": 69.09993967425089,
       "_south": 52.37559917665913,
       "_view_count": null,
       "_view_module_version": "",
       "_west": -18.544921875000004,
       "basemap": {
        "attribution": "Map data (c) <a href=\"https://openstreetmap.org\">OpenStreetMap</a> contributors",
        "max_zoom": 19,
        "url": "https://{s}.tile.openstreetmap.org/{z}/{x}/{y}.png"
       },
       "center": [
        61.85614879566797,
        24.257812500000004
       ],
       "default_tiles": "IPY_MODEL_5c2dfb80a60941cd978426db0f7d0a8a",
       "layers": [
        "IPY_MODEL_5c2dfb80a60941cd978426db0f7d0a8a",
        "IPY_MODEL_ec838d4d959649a2af00c1ee06d4b149"
       ],
       "layout": "IPY_MODEL_6b1380e7ac4a4aaeae652bdd7bd89c4a",
       "modisdate": "yesterday",
       "options": [
        "attribution_control",
        "basemap",
        "bounce_at_zoom_limits",
        "box_zoom",
        "center",
        "close_popup_on_click",
        "double_click_zoom",
        "dragging",
        "inertia",
        "inertia_deceleration",
        "inertia_max_speed",
        "keyboard",
        "keyboard_pan_offset",
        "keyboard_zoom_offset",
        "max_zoom",
        "min_zoom",
        "scroll_wheel_zoom",
        "tap",
        "tap_tolerance",
        "touch_zoom",
        "world_copy_jump",
        "zoom",
        "zoom_animation_threshold",
        "zoom_control",
        "zoom_start"
       ],
       "zoom": 4
      }
     },
     "ec838d4d959649a2af00c1ee06d4b149": {
      "model_module": "jupyter-leaflet",
      "model_module_version": "~0.5.1",
      "model_name": "LeafletMarkerModel",
      "state": {
       "_model_module_version": "~0.5.1",
       "_view_count": null,
       "_view_module_version": "~0.5.1",
       "location": [
        61.84562,
        24.29077
       ],
       "options": [
        "alt",
        "clickable",
        "draggable",
        "keyboard",
        "opacity",
        "rise_offset",
        "rise_on_hover",
        "title",
        "z_index_offset"
       ],
       "title": "Hyytiälä"
      }
     }
    },
    "version_major": 2,
    "version_minor": 0
   }
  }
 },
 "nbformat": 4,
 "nbformat_minor": 2
}
