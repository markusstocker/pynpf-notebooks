{
 "cells": [
  {
   "cell_type": "markdown",
   "metadata": {},
   "source": [
    "# Introduction"
   ]
  },
  {
   "cell_type": "markdown",
   "metadata": {},
   "source": [
    "This notebook supports the analysis of information about new particle formation events managed by the database. Events can be mapped, evaluated statistically, or described."
   ]
  },
  {
   "cell_type": "markdown",
   "metadata": {},
   "source": [
    "## Initialization"
   ]
  },
  {
   "cell_type": "code",
   "execution_count": 3,
   "metadata": {},
   "outputs": [],
   "source": [
    "from pynpf.processing.visualization import imap\n",
    "from pynpf.processing.statistics import duration\n",
    "from pynpf.processing.description import describe\n",
    "from pynpf.factory import events\n",
    "\n",
    "# Select the day and place\n",
    "# Day format: yyyy-mm-dd\n",
    "# Valid places: Hyytiälä, Värriö\n",
    "# Examples: \n",
    "#  day = '2013-04-04', place = 'Hyytiälä'\n",
    "#  day = '2013-04-08', place = 'Hyytiälä'\n",
    "day = ''\n",
    "place = ''"
   ]
  },
  {
   "cell_type": "markdown",
   "metadata": {},
   "source": [
    "## Execution"
   ]
  },
  {
   "cell_type": "code",
   "execution_count": null,
   "metadata": {},
   "outputs": [],
   "source": [
    "# Visualize event places on an interactive map, possibly on a specific day\n",
    "imap(events())"
   ]
  },
  {
   "cell_type": "code",
   "execution_count": null,
   "metadata": {},
   "outputs": [],
   "source": [
    "# Compute the average duration of events, possibly on a specific day and/or place\n",
    "duration(events(), fun='avg')"
   ]
  },
  {
   "cell_type": "code",
   "execution_count": null,
   "metadata": {},
   "outputs": [],
   "source": [
    "# Describe an event in plain English text\n",
    "describe(events(place=place), format='text')"
   ]
  },
  {
   "cell_type": "code",
   "execution_count": null,
   "metadata": {},
   "outputs": [],
   "source": [
    "# Describe an event with information in machine readable format \n",
    "describe(events(day, place), format='rdf')"
   ]
  },
  {
   "cell_type": "code",
   "execution_count": null,
   "metadata": {},
   "outputs": [],
   "source": [
    "# Describe an event as visual RDF graph\n",
    "describe(events(day, place), format='graph')"
   ]
  }
 ],
 "metadata": {
  "kernelspec": {
   "display_name": "Python 3",
   "language": "python",
   "name": "python3"
  },
  "language_info": {
   "codemirror_mode": {
    "name": "ipython",
    "version": 3
   },
   "file_extension": ".py",
   "mimetype": "text/x-python",
   "name": "python",
   "nbconvert_exporter": "python",
   "pygments_lexer": "ipython3",
   "version": "3.6.4"
  },
  "widgets": {
   "application/vnd.jupyter.widget-state+json": {
    "state": {
     "08c31c5f86064fd6bb82277089c23a73": {
      "model_module": "jupyter-leaflet",
      "model_module_version": "*",
      "model_name": "LeafletTileLayerModel",
      "state": {
       "_model_module_version": "*",
       "_view_module_version": "*",
       "msg_throttle": 1,
       "options": [
        "detect_retina",
        "tile_size",
        "min_zoom",
        "opacity",
        "max_zoom",
        "attribution"
       ]
      }
     },
     "2c8af93add7449bdba8076bc7c1fa52b": {
      "model_module": "jupyter-leaflet",
      "model_module_version": "*",
      "model_name": "LeafletMapModel",
      "state": {
       "_dom_classes": [],
       "_east": 67.763671875,
       "_model_module_version": "*",
       "_north": 69.09993967425089,
       "_south": 52.3755991766591,
       "_view_module_version": "*",
       "_west": -19.335937499999996,
       "center": [
        61.85614879566797,
        24.2138671875
       ],
       "layers": [
        "IPY_MODEL_08c31c5f86064fd6bb82277089c23a73",
        "IPY_MODEL_6f5bba4b228f44299556328d85439de0"
       ],
       "layout": "IPY_MODEL_b5bccbe9841548c8ab106aad5ee74ee3",
       "msg_throttle": 1,
       "options": [
        "inertia_deceleration",
        "min_zoom",
        "zoom_start",
        "close_popup_on_click",
        "keyboard",
        "tap",
        "box_zoom",
        "inertia_max_speed",
        "inertia",
        "max_zoom",
        "center",
        "double_click_zoom",
        "scroll_wheel_zoom",
        "touch_zoom",
        "world_copy_jump",
        "zoom_animation_threshold",
        "tap_tolerance",
        "zoom",
        "zoom_control",
        "keyboard_pan_offset",
        "dragging",
        "keyboard_zoom_offset",
        "bounce_at_zoom_limits",
        "attribution_control"
       ],
       "zoom": 4
      }
     },
     "6f5bba4b228f44299556328d85439de0": {
      "model_module": "jupyter-leaflet",
      "model_module_version": "*",
      "model_name": "LeafletMarkerModel",
      "state": {
       "_model_module_version": "*",
       "_view_module_version": "*",
       "location": [
        61.84562,
        24.29077
       ],
       "msg_throttle": 1,
       "options": [
        "rise_offset",
        "rise_on_hover",
        "title",
        "opacity",
        "clickable",
        "keyboard",
        "z_index_offset",
        "draggable",
        "alt"
       ],
       "title": "Hyytiälä"
      }
     },
     "b5bccbe9841548c8ab106aad5ee74ee3": {
      "model_module": "jupyter-js-widgets",
      "model_module_version": "~2.1.4",
      "model_name": "LayoutModel",
      "state": {
       "_model_module_version": "~2.1.4",
       "_view_module_version": "~2.1.4",
       "align_self": "stretch",
       "height": "400px"
      }
     }
    },
    "version_major": 1,
    "version_minor": 0
   }
  }
 },
 "nbformat": 4,
 "nbformat_minor": 1
}
