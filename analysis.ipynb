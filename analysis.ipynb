{
 "cells": [
  {
   "cell_type": "markdown",
   "metadata": {
    "deletable": false
   },
   "source": [
    "# Introduction"
   ]
  },
  {
   "cell_type": "markdown",
   "metadata": {
    "deletable": false
   },
   "source": [
    "This notebook supports the analysis of information about new particle formation events managed by the database. Events can be mapped, evaluated statistically, or described. First we configure the analysis for a day and/or place."
   ]
  },
  {
   "cell_type": "code",
   "execution_count": null,
   "metadata": {
    "deletable": false
   },
   "outputs": [],
   "source": [
    "# Select the day and place\n",
    "# Day format: yyyy-mm-dd\n",
    "# Valid places: Hyytiälä, Värriö\n",
    "# Examples: \n",
    "#  day = '2013-04-04', place = 'Hyytiälä'\n",
    "#  day = '2013-04-08', place = 'Hyytiälä'\n",
    "day = ''\n",
    "place = 'Hyytiälä'"
   ]
  },
  {
   "cell_type": "markdown",
   "metadata": {
    "deletable": false
   },
   "source": [
    "## Initialization"
   ]
  },
  {
   "cell_type": "code",
   "execution_count": null,
   "metadata": {
    "deletable": false
   },
   "outputs": [],
   "source": [
    "import pandas as pd\n",
    "from io import StringIO\n",
    "from IPython.display import display, HTML\n",
    "from SPARQLWrapper import SPARQLWrapper, CSV\n",
    "from pynpf.processing.visualization import imap\n",
    "from pynpf.processing.statistics import duration\n",
    "from pynpf.processing.description import describe\n",
    "from pynpf.factory import events, record\n",
    "\n",
    "pd.set_option('display.max_colwidth', 200)\n",
    "\n",
    "prefixes = \"\"\"\n",
    "PREFIX time: <http://www.w3.org/2006/time#>\n",
    "PREFIX rdf: <http://www.w3.org/1999/02/22-rdf-syntax-ns#>\n",
    "PREFIX obo: <http://purl.obolibrary.org/obo/>\n",
    "PREFIX lode: <http://linkedevents.org/ontology/>\n",
    "PREFIX gn: <http://www.geonames.org/ontology#>\n",
    "PREFIX prov: <http://www.w3.org/ns/prov#>\n",
    "\"\"\"\n",
    "\n",
    "def query(sparql):\n",
    "    sw = SPARQLWrapper(\"http://localhost:3030/pynpf/sparql\")\n",
    "    sw.setQuery('{}{}'.format(prefixes, sparql))\n",
    "    sw.setReturnFormat(CSV)\n",
    "    display(pd.read_csv(StringIO(sw.query().convert().decode())))"
   ]
  },
  {
   "cell_type": "markdown",
   "metadata": {
    "deletable": false
   },
   "source": [
    "## Execution"
   ]
  },
  {
   "cell_type": "code",
   "execution_count": null,
   "metadata": {
    "deletable": false
   },
   "outputs": [],
   "source": [
    "# Visualize event places on an interactive map, possibly on a specific day\n",
    "imap(events())"
   ]
  },
  {
   "cell_type": "code",
   "execution_count": null,
   "metadata": {
    "deletable": false
   },
   "outputs": [],
   "source": [
    "# Compute the average duration of events, possibly on a specific day and/or place\n",
    "d = duration(events(), fun='avg', prov={'agent': 'https://orcid.org/0000-0001-5492-3212'})\n",
    "\n",
    "print(d.value())"
   ]
  },
  {
   "cell_type": "markdown",
   "metadata": {
    "deletable": false
   },
   "source": [
    "Record the computed average duration, for instance if it ought to be published in a paper as a result.\n",
    "\n",
    "This records the computed average duration as [average value](http://purl.obolibrary.org/obo/OBI_0000679) with [scalar value specification](http://purl.obolibrary.org/obo/OBI_0001931), that is a numeric [duration](https://www.w3.org/TR/owl-time/#time:Duration) with unit type [hour](https://www.w3.org/TR/owl-time/#time:unitHour), whereby the average value [is about](http://purl.obolibrary.org/obo/IAO_0000136) the [dataset](http://purl.obolibrary.org/obo/IAO_0000100) of events for which the average duration was computed. This also records the provenance of the average value as it [was derived from](https://www.w3.org/TR/prov-o/#wasDerivedFrom) the dataset of events, including involved agent and activity of [averaging data transformation](http://purl.obolibrary.org/obo/OBI_0200170).\n",
    "\n",
    "As a result, the computed average duration is an identified resource and could potentially be referred to in published literature."
   ]
  },
  {
   "cell_type": "code",
   "execution_count": null,
   "metadata": {
    "deletable": false
   },
   "outputs": [],
   "source": [
    "record(d)"
   ]
  },
  {
   "cell_type": "markdown",
   "metadata": {
    "deletable": false
   },
   "source": [
    "The following query retrieves computed average durations and related dataset."
   ]
  },
  {
   "cell_type": "code",
   "execution_count": null,
   "metadata": {
    "deletable": false
   },
   "outputs": [],
   "source": [
    "query(\"\"\"\n",
    "    select ?duration ?unit ?dataset where {\n",
    "      [] rdf:type obo:OBI_0000679 ;         # average value\n",
    "         obo:OBI_0001938 [                  # has scalar value specification\n",
    "           rdf:type time:Duration ;         # a value specification\n",
    "           time:numericDuration ?duration ;\n",
    "           time:unitType ?unit\n",
    "         ] ;\n",
    "         obo:IAO_0000136 ?dataset .\n",
    "    }\n",
    "\"\"\")"
   ]
  },
  {
   "cell_type": "markdown",
   "metadata": {
    "deletable": false
   },
   "source": [
    "Given the computed average durations, we can inspect the related datasets using the following query. Make sure to replace the dataset identifier in the filter by choosing one in the results above."
   ]
  },
  {
   "cell_type": "code",
   "execution_count": null,
   "metadata": {
    "deletable": false
   },
   "outputs": [],
   "source": [
    "query(\"\"\"\n",
    "    select ?beginning ?end ?place where {\n",
    "      ?dataset rdf:type obo:IAO_0000100 . # data set\n",
    "      ?dataset obo:BFO_0000051 [          # has part\n",
    "           rdf:type lode:Event ;\n",
    "           lode:atTime [ \n",
    "             time:hasBeginning [ time:inXSDDateTime ?beginning ] ;\n",
    "             time:hasEnd [ time:inXSDDateTime ?end ] \n",
    "           ] ;\n",
    "           lode:atPlace [ gn:name ?place ]\n",
    "         ] . \n",
    "      filter (?dataset = <http://avaa.tdata.fi/web/smart/smear/a72e02d77771b28de3c5f9704c0c46b0>)\n",
    "    }\n",
    "\"\"\")"
   ]
  },
  {
   "cell_type": "markdown",
   "metadata": {
    "deletable": false
   },
   "source": [
    "We can also obtain a provenance description of the computed average duration as it is derived from the dataset of events, including involved agent and activity."
   ]
  },
  {
   "cell_type": "code",
   "execution_count": null,
   "metadata": {
    "deletable": false
   },
   "outputs": [],
   "source": [
    "query(\"\"\"\n",
    "    select ?average ?dataset where {\n",
    "      ?average prov:wasDerivedFrom ?dataset .\n",
    "      ?average prov:wasGeneratedBy obo:OBI_0200170 .                          # averaging data transformation\n",
    "      ?average prov:wasAttributedTo <https://orcid.org/0000-0001-5492-3212> .\n",
    "    }\n",
    "\"\"\")"
   ]
  },
  {
   "cell_type": "markdown",
   "metadata": {
    "deletable": false
   },
   "source": [
    "The following query displays the computed average duration derived from a dataset using the averaging data transformation activity."
   ]
  },
  {
   "cell_type": "code",
   "execution_count": null,
   "metadata": {
    "deletable": false
   },
   "outputs": [],
   "source": [
    "query(\"\"\"\n",
    "    select ?duration ?unit where {\n",
    "      ?average rdf:type obo:OBI_0000679 . # average value\n",
    "      ?average obo:OBI_0001938 [          # has scalar value specification: duration\n",
    "        rdf:type time:Duration ;          # a value specification\n",
    "        time:numericDuration ?duration ;\n",
    "        time:unitType ?unit\n",
    "      ] .\n",
    "      filter (?average = <http://avaa.tdata.fi/web/smart/smear/03220a5c986d82170241fb757404bec2>)\n",
    "    }\n",
    "\"\"\")"
   ]
  },
  {
   "cell_type": "code",
   "execution_count": null,
   "metadata": {
    "deletable": false
   },
   "outputs": [],
   "source": [
    "# Describe an event in plain English text\n",
    "describe(events(place=place), format='text')"
   ]
  },
  {
   "cell_type": "code",
   "execution_count": null,
   "metadata": {
    "deletable": false
   },
   "outputs": [],
   "source": [
    "# Describe an event with information in machine readable format \n",
    "describe(events(day, place), format='rdf')"
   ]
  },
  {
   "cell_type": "code",
   "execution_count": null,
   "metadata": {
    "deletable": false
   },
   "outputs": [],
   "source": [
    "# Describe an event as visual RDF graph\n",
    "describe(events(day, place), format='graph')"
   ]
  }
 ],
 "metadata": {
  "celltoolbar": "Edit Metadata",
  "kernelspec": {
   "display_name": "Python 3",
   "language": "python",
   "name": "python3"
  },
  "language_info": {
   "codemirror_mode": {
    "name": "ipython",
    "version": 3
   },
   "file_extension": ".py",
   "mimetype": "text/x-python",
   "name": "python",
   "nbconvert_exporter": "python",
   "pygments_lexer": "ipython3",
   "version": "3.6.4"
  },
  "widgets": {
   "application/vnd.jupyter.widget-state+json": {
    "state": {
     "08c31c5f86064fd6bb82277089c23a73": {
      "model_module": "jupyter-leaflet",
      "model_module_version": "*",
      "model_name": "LeafletTileLayerModel",
      "state": {
       "_model_module_version": "*",
       "_view_module_version": "*",
       "msg_throttle": 1,
       "options": [
        "detect_retina",
        "tile_size",
        "min_zoom",
        "opacity",
        "max_zoom",
        "attribution"
       ]
      }
     },
     "2c8af93add7449bdba8076bc7c1fa52b": {
      "model_module": "jupyter-leaflet",
      "model_module_version": "*",
      "model_name": "LeafletMapModel",
      "state": {
       "_dom_classes": [],
       "_east": 67.763671875,
       "_model_module_version": "*",
       "_north": 69.09993967425089,
       "_south": 52.3755991766591,
       "_view_module_version": "*",
       "_west": -19.335937499999996,
       "center": [
        61.85614879566797,
        24.2138671875
       ],
       "layers": [
        "IPY_MODEL_08c31c5f86064fd6bb82277089c23a73",
        "IPY_MODEL_6f5bba4b228f44299556328d85439de0"
       ],
       "layout": "IPY_MODEL_b5bccbe9841548c8ab106aad5ee74ee3",
       "msg_throttle": 1,
       "options": [
        "inertia_deceleration",
        "min_zoom",
        "zoom_start",
        "close_popup_on_click",
        "keyboard",
        "tap",
        "box_zoom",
        "inertia_max_speed",
        "inertia",
        "max_zoom",
        "center",
        "double_click_zoom",
        "scroll_wheel_zoom",
        "touch_zoom",
        "world_copy_jump",
        "zoom_animation_threshold",
        "tap_tolerance",
        "zoom",
        "zoom_control",
        "keyboard_pan_offset",
        "dragging",
        "keyboard_zoom_offset",
        "bounce_at_zoom_limits",
        "attribution_control"
       ],
       "zoom": 4
      }
     },
     "6f5bba4b228f44299556328d85439de0": {
      "model_module": "jupyter-leaflet",
      "model_module_version": "*",
      "model_name": "LeafletMarkerModel",
      "state": {
       "_model_module_version": "*",
       "_view_module_version": "*",
       "location": [
        61.84562,
        24.29077
       ],
       "msg_throttle": 1,
       "options": [
        "rise_offset",
        "rise_on_hover",
        "title",
        "opacity",
        "clickable",
        "keyboard",
        "z_index_offset",
        "draggable",
        "alt"
       ],
       "title": "Hyytiälä"
      }
     },
     "b5bccbe9841548c8ab106aad5ee74ee3": {
      "model_module": "jupyter-js-widgets",
      "model_module_version": "~2.1.4",
      "model_name": "LayoutModel",
      "state": {
       "_model_module_version": "~2.1.4",
       "_view_module_version": "~2.1.4",
       "align_self": "stretch",
       "height": "400px"
      }
     }
    },
    "version_major": 1,
    "version_minor": 0
   }
  }
 },
 "nbformat": 4,
 "nbformat_minor": 1
}
