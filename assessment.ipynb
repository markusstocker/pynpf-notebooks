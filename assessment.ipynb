{
 "cells": [
  {
   "cell_type": "markdown",
   "metadata": {},
   "source": [
    "# Introduction"
   ]
  },
  {
   "cell_type": "markdown",
   "metadata": {},
   "source": [
    "This notebook demonstrates the automated identification of new particle formation on a specified day and place. The approach employs an artificial neural network trained to classify features extracted from the data. The implementation is experimental and we plan to extract further characteristics about the event, e.g. duration and classification."
   ]
  },
  {
   "cell_type": "markdown",
   "metadata": {},
   "source": [
    "## Initialization"
   ]
  },
  {
   "cell_type": "code",
   "execution_count": null,
   "metadata": {},
   "outputs": [],
   "source": [
    "from pynpf.smear.datafetcher import fetchdata\n",
    "from pynpf.smear.dataplotter import plotdata\n",
    "from pynpf.factory import assess\n",
    "\n",
    "# Select the day and place\n",
    "# Day format: yyyy-mm-dd\n",
    "# Valid places: Hyytiälä, Värriö\n",
    "# Examples: \n",
    "#  day = '2013-04-04', place = 'Hyytiälä'\n",
    "#  day = '2013-04-08', place = 'Hyytiälä'\n",
    "day = ''\n",
    "place = ''"
   ]
  },
  {
   "cell_type": "markdown",
   "metadata": {},
   "source": [
    "## Execution"
   ]
  },
  {
   "cell_type": "code",
   "execution_count": null,
   "metadata": {},
   "outputs": [],
   "source": [
    "# Fetch and plot concentration data for the given day and place\n",
    "# Data fetched from SmartSMEAR, https://avaa.tdata.fi/web/smart\n",
    "data = fetchdata(day, place)\n",
    "plotdata(data)"
   ]
  },
  {
   "cell_type": "code",
   "execution_count": null,
   "metadata": {},
   "outputs": [],
   "source": [
    "# Automated assessment for whether or not an event occurred\n",
    "assess(data)"
   ]
  }
 ],
 "metadata": {
  "kernelspec": {
   "display_name": "Python 3",
   "language": "python",
   "name": "python3"
  },
  "language_info": {
   "codemirror_mode": {
    "name": "ipython",
    "version": 3
   },
   "file_extension": ".py",
   "mimetype": "text/x-python",
   "name": "python",
   "nbconvert_exporter": "python",
   "pygments_lexer": "ipython3",
   "version": "3.6.4"
  }
 },
 "nbformat": 4,
 "nbformat_minor": 2
}
